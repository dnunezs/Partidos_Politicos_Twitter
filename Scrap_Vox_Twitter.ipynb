{
 "cells": [
  {
   "cell_type": "code",
   "execution_count": 1,
   "metadata": {},
   "outputs": [],
   "source": [
    "import requests\n",
    "from bs4 import BeautifulSoup as bs\n",
    "import datetime\n",
    "import time\n",
    "import pandas as pd\n",
    "import matplotlib.pyplot as plt\n",
    "import numpy as np\n",
    "\n",
    "%matplotlib inline"
   ]
  },
  {
   "cell_type": "code",
   "execution_count": 2,
   "metadata": {},
   "outputs": [],
   "source": [
    "#Modificamos las cabeceras HTTP y el user agent al detectar la web que accedemos desde python\n",
    "headers = {\n",
    "\"Accept\": \"text/html,application/xhtml+xml,application/xml;q=0.9,image/webp,\\\n",
    "*/*;q=0.8\",\n",
    "\"Accept-Encoding\": \"gzip, deflate, sdch, br\",\n",
    "\"Accept-Language\": \"en-US,en;q=0.8\",\n",
    "\"Cache-Control\": \"no-cache\",\n",
    "\"dnt\": \"1\",\n",
    "\"Pragma\": \"no-cache\",\n",
    "\"Upgrade-Insecure-Requests\": \"1\",\n",
    "\"User-Agent\": \"Mozilla/5.0 (Macintosh; Intel Mac OS X 10_12_3) AppleWebKit/5\\\n",
    "37.36 (KHTML, like Gecko) Chrome/56.0.2924.87 Safari/537.36\"\n",
    "}\n",
    "\n",
    "# Tomamos la informacion de la web\n",
    "soup = requests.get(\"https://socialblade.com/twitter/user/vox_es/monthly\", headers=headers)"
   ]
  },
  {
   "cell_type": "code",
   "execution_count": 3,
   "metadata": {},
   "outputs": [],
   "source": [
    "soup = bs(soup.text, 'lxml')\n",
    "script_divs = soup.find_all('script', {'type': 'text/javascript'})"
   ]
  },
  {
   "cell_type": "code",
   "execution_count": 7,
   "metadata": {},
   "outputs": [],
   "source": [
    "# Definimos una funcion para coger solo la parte que nos interesa\n",
    "def lista_scrap(x, y):\n",
    "    # Nos quedamos solo con la fila 5 de la lista ya que es donde esta la ifnormacion que queremos\n",
    "    cadena_ori = script_divs[5]\n",
    "    # Creamos una lista separando por [ que es por donde empieza nuestra informacion\n",
    "    cadena_sep = str(cadena_ori).split('[')\n",
    "    # Selecionamos las filas que queremos segun si es seguidores, menos seguidores...\n",
    "    lista = cadena_sep[x:y]\n",
    "    # eliminamos ,]\n",
    "    lista = [test.replace('],', '').replace('\"', '') for test in lista]\n",
    "    return lista"
   ]
  },
  {
   "cell_type": "code",
   "execution_count": 10,
   "metadata": {},
   "outputs": [],
   "source": [
    "# Hacemos otra funacion para crear un dataframe con los datos de la anterior funcion\n",
    "def lista_dataf(x, y):\n",
    "    df = pd.DataFrame()\n",
    "    #Usamos la funcion anterior para coger los datos\n",
    "    lista = lista_scrap(x, y)\n",
    "    # Señalamos la primera colunma como la fecha y sacamos los datos de la lista\n",
    "    df['Semana'] = [x.split(',')[0] for x in lista]\n",
    "    # Señalamos la segunda como los seguidores\n",
    "    df['Seguidores'] = [x.split(',')[1] for x in lista]\n",
    "    #Ahora hay que pasar la fecha a un formao mas legible\n",
    "    #Convertir epoch a fecha normal\n",
    "    # tenemos que eliminar los tres ultimos ceros para pasorlo\n",
    "    df['Semana'] = df['Semana'].map(lambda x: str(x)[:-3])\n",
    "    #pasamos la columna a numeros\n",
    "    df['Semana'] = pd.to_numeric(df['Semana'])\n",
    "    #pasamos a formato fecha\n",
    "    for n in range(len(df)):\n",
    "        df['Semana'][n] = datetime.datetime.fromtimestamp(df['Semana'][n]).strftime('%d-%m-%Y')\n",
    "    return df"
   ]
  },
  {
   "cell_type": "code",
   "execution_count": 11,
   "metadata": {},
   "outputs": [
    {
     "name": "stderr",
     "output_type": "stream",
     "text": [
      "C:\\Users\\Dany\\Anaconda2\\lib\\site-packages\\ipykernel_launcher.py:18: SettingWithCopyWarning: \n",
      "A value is trying to be set on a copy of a slice from a DataFrame\n",
      "\n",
      "See the caveats in the documentation: http://pandas.pydata.org/pandas-docs/stable/indexing.html#indexing-view-versus-copy\n"
     ]
    }
   ],
   "source": [
    "# Si inspeccionamos los datos vemos de donde a donde van cada uno de los graficos\n",
    "cadena_ori = script_divs[5]\n",
    "cadena_sep = str(cadena_ori).split('[')\n",
    "\n",
    "seguidores_ganados = lista_dataf(3, 182)\n",
    "seguidos_nuevos = lista_dataf(185, 364)\n",
    "media = lista_dataf(367, 546)"
   ]
  },
  {
   "cell_type": "code",
   "execution_count": 12,
   "metadata": {},
   "outputs": [
    {
     "data": {
      "text/html": [
       "<div>\n",
       "<style scoped>\n",
       "    .dataframe tbody tr th:only-of-type {\n",
       "        vertical-align: middle;\n",
       "    }\n",
       "\n",
       "    .dataframe tbody tr th {\n",
       "        vertical-align: top;\n",
       "    }\n",
       "\n",
       "    .dataframe thead th {\n",
       "        text-align: right;\n",
       "    }\n",
       "</style>\n",
       "<table border=\"1\" class=\"dataframe\">\n",
       "  <thead>\n",
       "    <tr style=\"text-align: right;\">\n",
       "      <th></th>\n",
       "      <th>Semana</th>\n",
       "      <th>Seguidores</th>\n",
       "      <th>Seguidos</th>\n",
       "      <th>Media</th>\n",
       "    </tr>\n",
       "  </thead>\n",
       "  <tbody>\n",
       "    <tr>\n",
       "      <th>0</th>\n",
       "      <td>22-05-2017</td>\n",
       "      <td>209</td>\n",
       "      <td>5</td>\n",
       "      <td>113</td>\n",
       "    </tr>\n",
       "    <tr>\n",
       "      <th>1</th>\n",
       "      <td>29-05-2017</td>\n",
       "      <td>69</td>\n",
       "      <td>7</td>\n",
       "      <td>84</td>\n",
       "    </tr>\n",
       "    <tr>\n",
       "      <th>2</th>\n",
       "      <td>05-06-2017</td>\n",
       "      <td>107</td>\n",
       "      <td>9</td>\n",
       "      <td>121</td>\n",
       "    </tr>\n",
       "    <tr>\n",
       "      <th>3</th>\n",
       "      <td>12-06-2017</td>\n",
       "      <td>105</td>\n",
       "      <td>2</td>\n",
       "      <td>71</td>\n",
       "    </tr>\n",
       "    <tr>\n",
       "      <th>4</th>\n",
       "      <td>19-06-2017</td>\n",
       "      <td>97</td>\n",
       "      <td>8</td>\n",
       "      <td>127</td>\n",
       "    </tr>\n",
       "  </tbody>\n",
       "</table>\n",
       "</div>"
      ],
      "text/plain": [
       "       Semana Seguidores Seguidos Media\n",
       "0  22-05-2017        209        5   113\n",
       "1  29-05-2017         69        7    84\n",
       "2  05-06-2017        107        9   121\n",
       "3  12-06-2017        105        2    71\n",
       "4  19-06-2017         97        8   127"
      ]
     },
     "execution_count": 12,
     "metadata": {},
     "output_type": "execute_result"
    }
   ],
   "source": [
    "# Juantamos las tres variables\n",
    "Base_conjunta = pd.DataFrame()\n",
    "Base_conjunta['Semana'] = seguidores_ganados['Semana']\n",
    "Base_conjunta['Seguidores'] = seguidores_ganados['Seguidores']\n",
    "Base_conjunta['Seguidos'] = seguidos_nuevos['Seguidores']\n",
    "Base_conjunta['Media'] = media['Seguidores']\n",
    "\n",
    "#Vemos la cabecera de la base\n",
    "Base_conjunta.head(5)"
   ]
  },
  {
   "cell_type": "code",
   "execution_count": 13,
   "metadata": {},
   "outputs": [],
   "source": [
    "# Guardamos la base en csv\n",
    "Base_conjunta.to_csv('Vox_Twitter.csv', index=False)"
   ]
  }
 ],
 "metadata": {
  "kernelspec": {
   "display_name": "Python 2",
   "language": "python",
   "name": "python2"
  },
  "language_info": {
   "codemirror_mode": {
    "name": "ipython",
    "version": 2
   },
   "file_extension": ".py",
   "mimetype": "text/x-python",
   "name": "python",
   "nbconvert_exporter": "python",
   "pygments_lexer": "ipython2",
   "version": "2.7.16"
  }
 },
 "nbformat": 4,
 "nbformat_minor": 2
}
